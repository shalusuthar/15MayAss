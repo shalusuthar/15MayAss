{
 "cells": [
  {
   "cell_type": "markdown",
   "id": "c43e49f2-3522-47aa-a834-28239efd4aae",
   "metadata": {},
   "source": [
    "Q1. How do you comment code in Python? What are the different types of comments?\n",
    "\n",
    "Ans.The first way to comment a code in python is by using # at the beginning of each line of the comment. The next way is by using string literals but not assigning them to any variables. If you do not assign a string literal to a variable, the python interpreter ignores it.This is used to write multi-line comments.\n",
    "\n",
    "There are three types of comments in python:\n",
    "\n",
    "1.Single line comments\n",
    "\n",
    "2.Multiline comments\n",
    "\n",
    "3.Docstring comments"
   ]
  },
  {
   "cell_type": "code",
   "execution_count": null,
   "id": "6087a6a3-dbe0-482f-89e5-5b5bffd4df38",
   "metadata": {},
   "outputs": [],
   "source": []
  },
  {
   "cell_type": "markdown",
   "id": "9f71c98b-ad8b-48a6-a0f3-8646d2688f3b",
   "metadata": {},
   "source": [
    "Q2. What are variables in Python? How do you declare and assign values to variables?\n",
    "\n",
    "Ans.A python variable is a reference or pointer to an object. Once an object is assigned to a variable, you can refer to the object by that name. But the data itself is still contained within the object.\n",
    "    The assignment operator, denoted by the \"=\" symbol, is the operator that is used to assign values to the variable in python. The line x=1 takes the known value, 1, and assigns that value to the variable with name \"x\". After executing this line, this number will be stored into this variable."
   ]
  },
  {
   "cell_type": "code",
   "execution_count": null,
   "id": "80b5c529-9341-4019-8cc8-5265b90b9ff4",
   "metadata": {},
   "outputs": [],
   "source": []
  },
  {
   "cell_type": "markdown",
   "id": "8a769c4d-94b2-422c-b9e9-4991be36dcbe",
   "metadata": {},
   "source": [
    "Q3. How do you convert one data type to another in Python?\n",
    "\n",
    "Ans.Data types can be converted either implicitly or explicitly.\n",
    "\n",
    "Implict conversions are not visible to the user. SQL Server automatically converts the data from one data type to another. \n",
    "\n",
    "In explicit type of conversion, user involvement is required. The user converts one data type to another according to his own need. This can be done with the help of int(), float(), str() etc. functions. This data type of conversion is also called typecating because the user casts (change) the data type of the objects."
   ]
  },
  {
   "cell_type": "code",
   "execution_count": null,
   "id": "0fd79617-c580-453f-bbc0-a7d0e35fb263",
   "metadata": {},
   "outputs": [],
   "source": []
  },
  {
   "cell_type": "markdown",
   "id": "8572d80e-8541-4b30-931f-c61d9b102c1d",
   "metadata": {},
   "source": [
    "Q4. How do you write and execute a Python script from the command line?\n",
    "\n",
    "Ans. The most basic and easy way to run a python script is by using the python command. You need to open a command line and type the word python followed by the path to your script file like this : pyhton first_script.py hello world! Then you hit the ENTER button form the keyboard, and that's it."
   ]
  },
  {
   "cell_type": "code",
   "execution_count": null,
   "id": "08f73372-9c65-4873-91be-27c60f24d6ca",
   "metadata": {},
   "outputs": [],
   "source": []
  },
  {
   "cell_type": "markdown",
   "id": "cf07a3ea-f291-4756-98d5-c3a791486d0c",
   "metadata": {},
   "source": [
    "Q5. Given a list my_list = [1, 2, 3, 4, 5], write the code to slice the list and obtain the sub-list [2, 3]."
   ]
  },
  {
   "cell_type": "code",
   "execution_count": 1,
   "id": "73fe47ac-ac42-4cea-bdc6-e94a08f90874",
   "metadata": {},
   "outputs": [],
   "source": [
    "my_list = [1,2,3,4,5]"
   ]
  },
  {
   "cell_type": "code",
   "execution_count": 24,
   "id": "32a29c1d-8143-4f05-82e5-dbd2231d2230",
   "metadata": {},
   "outputs": [
    {
     "name": "stdout",
     "output_type": "stream",
     "text": [
      "[2, 3, 4, 5]\n"
     ]
    }
   ],
   "source": [
    "print(my_list[1:])"
   ]
  },
  {
   "cell_type": "code",
   "execution_count": 49,
   "id": "1f61550d-94c6-4573-80e0-9ebeebf5e022",
   "metadata": {},
   "outputs": [
    {
     "name": "stdout",
     "output_type": "stream",
     "text": [
      "[2, 3]\n"
     ]
    }
   ],
   "source": [
    "print(my_list[1:3:1])"
   ]
  },
  {
   "cell_type": "code",
   "execution_count": null,
   "id": "011a41b3-2f0a-4b65-b3be-bdf9a600d996",
   "metadata": {},
   "outputs": [],
   "source": []
  },
  {
   "cell_type": "markdown",
   "id": "8980ba58-a004-463d-a52d-0e1d871122d6",
   "metadata": {},
   "source": [
    "Q6. What is a complex number in mathematics, and how is it represented in Python?\n",
    "\n",
    "Ans. Complex numbers are the numbers that are expressed in the form of a+ib where, a,b are relal numbers and \"i\" is imaginary number called \"iota\". The value for i = (underroot-1). \n",
    "For example, 2+3i is a complex number, where 2 isa real number and 3i is an imaginary number.\n",
    "Python complex number has 2 parts = real and imaginary. The imaginary part is denoted with \"j\" suffix.\n",
    "example: 2+3j"
   ]
  },
  {
   "cell_type": "code",
   "execution_count": null,
   "id": "3a3f3009-b229-4380-aead-b274c7e76df2",
   "metadata": {},
   "outputs": [],
   "source": []
  },
  {
   "cell_type": "markdown",
   "id": "7e5cb516-acf8-4a4c-be14-993d983e33e8",
   "metadata": {},
   "source": [
    "Q7. What is the correct way to declare a variable named age and assign the value 25 to it?"
   ]
  },
  {
   "cell_type": "code",
   "execution_count": 50,
   "id": "193d512e-eb29-4075-8eba-c64ac5d93e66",
   "metadata": {},
   "outputs": [],
   "source": [
    "age = int(25)"
   ]
  },
  {
   "cell_type": "code",
   "execution_count": null,
   "id": "f7858c28-7adc-4912-8226-ee53c234f0d1",
   "metadata": {},
   "outputs": [],
   "source": []
  },
  {
   "cell_type": "markdown",
   "id": "2fbae6f0-225b-4e03-ace7-788e54e9523d",
   "metadata": {},
   "source": [
    "Q8. Declare a variable named price and assign the value 9.99 to it. What data type does this variable\n",
    "belong to?"
   ]
  },
  {
   "cell_type": "code",
   "execution_count": 51,
   "id": "0a03f3f1-ec4c-4b5a-96f1-b8b5f386b765",
   "metadata": {},
   "outputs": [],
   "source": [
    "price = 9.99"
   ]
  },
  {
   "cell_type": "code",
   "execution_count": 52,
   "id": "22bfe7d5-b56d-41a1-aa08-6473a983d79c",
   "metadata": {},
   "outputs": [
    {
     "data": {
      "text/plain": [
       "float"
      ]
     },
     "execution_count": 52,
     "metadata": {},
     "output_type": "execute_result"
    }
   ],
   "source": [
    "type(price)"
   ]
  },
  {
   "cell_type": "code",
   "execution_count": null,
   "id": "3afb034f-6401-45be-be8d-4a3c0be86f8e",
   "metadata": {},
   "outputs": [],
   "source": []
  },
  {
   "cell_type": "markdown",
   "id": "e6e4d7f6-7bc7-4278-9ac0-ec5d06facf4b",
   "metadata": {},
   "source": [
    "Q9. Create a variable named name and assign your full name to it as a string. How would you print the\n",
    "value of this variable?"
   ]
  },
  {
   "cell_type": "code",
   "execution_count": 2,
   "id": "fc04a333-d63d-4533-8f51-cd50e02cd885",
   "metadata": {},
   "outputs": [],
   "source": [
    "name = \"shalusuthar\""
   ]
  },
  {
   "cell_type": "code",
   "execution_count": 3,
   "id": "2618a0fc-c634-42be-af70-465af19f7b75",
   "metadata": {},
   "outputs": [
    {
     "name": "stdout",
     "output_type": "stream",
     "text": [
      "shalusuthar\n"
     ]
    }
   ],
   "source": [
    "print(name)"
   ]
  },
  {
   "cell_type": "code",
   "execution_count": null,
   "id": "bd5e1f0f-3633-48e2-bfd5-6f9d70aa7b9a",
   "metadata": {},
   "outputs": [],
   "source": []
  },
  {
   "cell_type": "markdown",
   "id": "0344303d-72b0-4af2-a944-8134f708350d",
   "metadata": {},
   "source": [
    "Q10. Given the string \"Hello, World!\", extract the substring \"World\"."
   ]
  },
  {
   "cell_type": "code",
   "execution_count": 4,
   "id": "b398e298-8fcf-4f42-8b7a-147c6e5d9879",
   "metadata": {},
   "outputs": [],
   "source": [
    "a = \"Hello, World!\""
   ]
  },
  {
   "cell_type": "code",
   "execution_count": 28,
   "id": "3e0fdfcc-aafd-4df4-b89b-68de519420f3",
   "metadata": {},
   "outputs": [
    {
     "name": "stdout",
     "output_type": "stream",
     "text": [
      "World\n"
     ]
    }
   ],
   "source": [
    "print(a[6:12])"
   ]
  },
  {
   "cell_type": "code",
   "execution_count": null,
   "id": "bfd822e2-9834-4d86-b261-9f9c25dac78a",
   "metadata": {},
   "outputs": [],
   "source": []
  },
  {
   "cell_type": "markdown",
   "id": "de637539-b542-46a7-b959-1b1eff4b45ce",
   "metadata": {},
   "source": [
    "Q11. Create a variable named \"is_student\" and assign it a boolean value indicating whether you are\n",
    "currently a student or not."
   ]
  },
  {
   "cell_type": "code",
   "execution_count": 29,
   "id": "634ba449-5f67-4004-88f0-110ce87c8534",
   "metadata": {},
   "outputs": [
    {
     "name": "stdout",
     "output_type": "stream",
     "text": [
      "True\n"
     ]
    }
   ],
   "source": [
    "is_student = True\n",
    "print(is_student)"
   ]
  },
  {
   "cell_type": "code",
   "execution_count": null,
   "id": "5084f5ea-257e-4b7d-a06c-3bb40238b76a",
   "metadata": {},
   "outputs": [],
   "source": []
  }
 ],
 "metadata": {
  "kernelspec": {
   "display_name": "Python 3 (ipykernel)",
   "language": "python",
   "name": "python3"
  },
  "language_info": {
   "codemirror_mode": {
    "name": "ipython",
    "version": 3
   },
   "file_extension": ".py",
   "mimetype": "text/x-python",
   "name": "python",
   "nbconvert_exporter": "python",
   "pygments_lexer": "ipython3",
   "version": "3.10.8"
  }
 },
 "nbformat": 4,
 "nbformat_minor": 5
}
